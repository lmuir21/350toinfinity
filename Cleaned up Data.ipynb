{
 "cells": [
  {
   "cell_type": "markdown",
   "metadata": {},
   "source": [
    "# Cleaned Up Dataset\n"
   ]
  },
  {
   "cell_type": "code",
   "execution_count": 65,
   "metadata": {},
   "outputs": [
    {
     "name": "stdout",
     "output_type": "stream",
     "text": [
      "Requirement already satisfied: wbgapi in /Users/iliyansherali/anaconda3/lib/python3.11/site-packages (1.0.12)\n",
      "Requirement already satisfied: requests in /Users/iliyansherali/anaconda3/lib/python3.11/site-packages (from wbgapi) (2.32.3)\n",
      "Requirement already satisfied: PyYAML in /Users/iliyansherali/anaconda3/lib/python3.11/site-packages (from wbgapi) (6.0.2)\n",
      "Requirement already satisfied: tabulate in /Users/iliyansherali/anaconda3/lib/python3.11/site-packages (from wbgapi) (0.8.10)\n",
      "Requirement already satisfied: charset-normalizer<4,>=2 in /Users/iliyansherali/anaconda3/lib/python3.11/site-packages (from requests->wbgapi) (2.0.4)\n",
      "Requirement already satisfied: idna<4,>=2.5 in /Users/iliyansherali/anaconda3/lib/python3.11/site-packages (from requests->wbgapi) (3.4)\n",
      "Requirement already satisfied: urllib3<3,>=1.21.1 in /Users/iliyansherali/anaconda3/lib/python3.11/site-packages (from requests->wbgapi) (1.26.16)\n",
      "Requirement already satisfied: certifi>=2017.4.17 in /Users/iliyansherali/anaconda3/lib/python3.11/site-packages (from requests->wbgapi) (2025.1.31)\n"
     ]
    }
   ],
   "source": [
    "!pip install wbgapi\n"
   ]
  },
  {
   "cell_type": "code",
   "execution_count": 66,
   "metadata": {},
   "outputs": [
    {
     "name": "stdout",
     "output_type": "stream",
     "text": [
      "📦 Downloading GDP_per_capita...\n",
      "📦 Downloading GDP_growth...\n",
      "📦 Downloading Primary_enrollment...\n",
      "📦 Downloading Secondary_enrollment...\n",
      "📦 Downloading Tertiary_enrollment...\n",
      "📦 Downloading Education_expenditure...\n",
      "📦 Downloading Population...\n",
      "✅ All indicators saved to 'wdi_cleaned_data.csv'\n"
     ]
    }
   ],
   "source": [
    "import wbgapi as wb\n",
    "import pandas as pd\n",
    "from functools import reduce\n",
    "\n",
    "# Define the World Bank indicators you want\n",
    "indicators = {\n",
    "    'GDP_per_capita': 'NY.GDP.PCAP.KD',\n",
    "    'GDP_growth': 'NY.GDP.MKTP.KD.ZG',\n",
    "    'Primary_enrollment': 'SE.PRM.ENRR',\n",
    "    'Secondary_enrollment': 'SE.SEC.ENRR',\n",
    "    'Tertiary_enrollment': 'SE.TER.ENRR',\n",
    "    'Education_expenditure': 'SE.XPD.TOTL.GD.ZS',\n",
    "    'Population': 'SP.POP.TOTL'\n",
    "}\n",
    "\n",
    "years = list(range(2000, 2023))\n",
    "all_data = []\n",
    "\n",
    "# Pull each indicator separately\n",
    "for col_name, indicator_code in indicators.items():\n",
    "    print(f\"📦 Downloading {col_name}...\")\n",
    "    temp = wb.data.DataFrame(indicator_code, time=years, labels=False, columns='series', index=['economy', 'time'])\n",
    "    temp.reset_index(inplace=True)\n",
    "    temp.rename(columns={'economy': 'country', 'time': 'year', indicator_code: col_name}, inplace=True)\n",
    "    \n",
    "    # Only keep what we need for clean merging\n",
    "    temp = temp[['country', 'year', col_name]]\n",
    "    all_data.append(temp)\n",
    "\n",
    "# Merge all indicator tables on country + year\n",
    "merged_df = reduce(lambda left, right: pd.merge(left, right, on=['country', 'year'], how='outer'), all_data)\n",
    "\n",
    "# Save to CSV\n",
    "merged_df.to_csv(\"wdi_cleaned_data.csv\", index=False)\n",
    "print(\"✅ All indicators saved to 'wdi_cleaned_data.csv'\")\n",
    "\n",
    "\n",
    "\n",
    "\n"
   ]
  },
  {
   "cell_type": "code",
   "execution_count": 67,
   "metadata": {},
   "outputs": [
    {
     "name": "stdout",
     "output_type": "stream",
     "text": [
      "  country  year  GDP_per_capita  GDP_growth  Primary_enrollment  \\\n",
      "0     ABW  2000    30199.661277    7.622921          108.326508   \n",
      "1     ABW  2001    31169.796914    4.182002          110.920418   \n",
      "2     ABW  2002    30662.321715   -0.944953          115.317001   \n",
      "3     ABW  2003    30651.945756    1.110505          113.902641   \n",
      "4     ABW  2004    32192.791947    7.293728          116.187538   \n",
      "5     ABW  2005    31249.278037   -0.383138          116.397911   \n",
      "6     ABW  2006    31038.889867    1.127411          117.467499   \n",
      "7     ABW  2007    31759.823202    3.089544          119.884132   \n",
      "8     ABW  2008    32097.040224    1.835755          118.331169   \n",
      "9     ABW  2009    28157.148989  -11.677741          120.840927   \n",
      "\n",
      "   Secondary_enrollment  Tertiary_enrollment  Education_expenditure  \\\n",
      "0             93.762329            27.973761                4.71468   \n",
      "1             95.286102            29.228010                4.79898   \n",
      "2            100.267097            28.924419                4.87220   \n",
      "3             99.435440            29.782690                    NaN   \n",
      "4             97.211769            29.293449                4.35699   \n",
      "5             95.529602            34.423012                4.62322   \n",
      "6            100.635818            32.739208                    NaN   \n",
      "7            104.846458            34.940510                4.70255   \n",
      "8             96.907494            35.152088                4.82730   \n",
      "9             99.518387            33.988548                5.79740   \n",
      "\n",
      "   Population  \n",
      "0     90588.0  \n",
      "1     91439.0  \n",
      "2     92074.0  \n",
      "3     93128.0  \n",
      "4     95138.0  \n",
      "5     97635.0  \n",
      "6     99405.0  \n",
      "7    100150.0  \n",
      "8    100917.0  \n",
      "9    101604.0  \n"
     ]
    }
   ],
   "source": [
    "import sqlite3\n",
    "import pandas as pd\n",
    "\n",
    "# Connect to the SQLite database\n",
    "conn = sqlite3.connect(\"wdi_project.db\")\n",
    "\n",
    "# Query to fetch the first 10 rows of the wdi_raw table\n",
    "query = \"SELECT * FROM wdi_raw LIMIT 10;\"\n",
    "wdi_raw_sample = pd.read_sql_query(query, conn)\n",
    "\n",
    "# Display the result\n",
    "print(wdi_raw_sample)"
   ]
  },
  {
   "cell_type": "code",
   "execution_count": 71,
   "metadata": {},
   "outputs": [
    {
     "name": "stdout",
     "output_type": "stream",
     "text": [
      "✅ File saved as 'top15_countries_with_yoy.csv' with year-over-year % changes\n"
     ]
    },
    {
     "name": "stderr",
     "output_type": "stream",
     "text": [
      "/var/folders/6l/xfqxt4zj5rvdhhf45x8rl18h0000gn/T/ipykernel_85432/125329031.py:34: FutureWarning: The default fill_method='ffill' in SeriesGroupBy.pct_change is deprecated and will be removed in a future version. Either fill in any non-leading NA values prior to calling pct_change or specify 'fill_method=None' to not fill NA values.\n",
      "  df_top15[yoy_col] = df_top15.groupby('country')[col].pct_change() * 100\n",
      "/var/folders/6l/xfqxt4zj5rvdhhf45x8rl18h0000gn/T/ipykernel_85432/125329031.py:34: FutureWarning: The default fill_method='ffill' in SeriesGroupBy.pct_change is deprecated and will be removed in a future version. Either fill in any non-leading NA values prior to calling pct_change or specify 'fill_method=None' to not fill NA values.\n",
      "  df_top15[yoy_col] = df_top15.groupby('country')[col].pct_change() * 100\n",
      "/var/folders/6l/xfqxt4zj5rvdhhf45x8rl18h0000gn/T/ipykernel_85432/125329031.py:34: FutureWarning: The default fill_method='ffill' in SeriesGroupBy.pct_change is deprecated and will be removed in a future version. Either fill in any non-leading NA values prior to calling pct_change or specify 'fill_method=None' to not fill NA values.\n",
      "  df_top15[yoy_col] = df_top15.groupby('country')[col].pct_change() * 100\n"
     ]
    }
   ],
   "source": [
    "import sqlite3\n",
    "import pandas as pd\n",
    "import numpy as np\n",
    "import wbgapi as wb\n",
    "\n",
    "# Step 1: Connect to DB\n",
    "conn = sqlite3.connect(\"wdi_project.db\")\n",
    "\n",
    "# Step 2: Load full raw table\n",
    "df = pd.read_sql_query(\"SELECT * FROM wdi_raw\", conn)\n",
    "\n",
    "# Step 3: Get only real countries (no aggregates)\n",
    "valid_countries_df = wb.economy.DataFrame(skipAggs=True)\n",
    "valid_countries = valid_countries_df.index.tolist()\n",
    "\n",
    "# Step 4: Filter to real countries\n",
    "df = df[df['country'].isin(valid_countries)]\n",
    "\n",
    "# Step 5: Get top 15 countries by population in 2022\n",
    "pop_2022 = df[df['year'] == 2022][['country', 'Population']]\n",
    "top15_countries = pop_2022.sort_values(by='Population', ascending=False).head(15)['country'].tolist()\n",
    "\n",
    "# Step 6: Filter full data to those 15 countries\n",
    "df_top15 = df[df['country'].isin(top15_countries)]\n",
    "\n",
    "# Step 7: Sort by country and year\n",
    "df_top15 = df_top15.sort_values(by=['country', 'year'])\n",
    "\n",
    "# Step 8: Compute YoY % change for selected indicators\n",
    "indicators = ['GDP_per_capita', 'Primary_enrollment', 'Secondary_enrollment', 'Tertiary_enrollment']\n",
    "\n",
    "for col in indicators:\n",
    "    yoy_col = f'YoY_{col}'\n",
    "    df_top15[yoy_col] = df_top15.groupby('country')[col].pct_change() * 100\n",
    "    df_top15[yoy_col] = df_top15[yoy_col].round(2)\n",
    "\n",
    "# Step 9: Save to CSV\n",
    "df_top15.to_csv(\"top15_countries_with_yoy.csv\", index=False)\n",
    "print(\"✅ File saved as 'top15_countries_with_yoy.csv' with year-over-year % changes\")\n",
    "\n",
    "# Step 10: Close DB connection\n",
    "conn.close()\n"
   ]
  }
 ],
 "metadata": {
  "kernelspec": {
   "display_name": "base",
   "language": "python",
   "name": "python3"
  },
  "language_info": {
   "codemirror_mode": {
    "name": "ipython",
    "version": 3
   },
   "file_extension": ".py",
   "mimetype": "text/x-python",
   "name": "python",
   "nbconvert_exporter": "python",
   "pygments_lexer": "ipython3",
   "version": "3.11.5"
  }
 },
 "nbformat": 4,
 "nbformat_minor": 4
}
